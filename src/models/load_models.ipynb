{
 "cells": [
  {
   "cell_type": "code",
   "execution_count": 6,
   "id": "15b89a01",
   "metadata": {},
   "outputs": [
    {
     "name": "stdout",
     "output_type": "stream",
     "text": [
      "model names:  ['TemperatureForecaster-LENDAVA', 'TemperatureForecaster-PTUJ', 'TemperatureForecaster-CELJE', 'TemperatureForecaster-CRNOMELJ', 'TemperatureForecaster-BOVEC']\n",
      "https://dagshub.com/JakobOpresnik/temperatureForecaster.mlflow/\n",
      "  Model name: TemperatureForecaster-LENDAVA\n",
      "  Latest version: 7\n",
      "  Model UR: mlflow-artifacts:/190974e7755c49949305f806a773ca34/475d63beeb474c5187c48538734a5793/artifacts/model\n"
     ]
    },
    {
     "name": "stderr",
     "output_type": "stream",
     "text": [
      "2025/06/10 03:08:43 WARNING mlflow.utils.requirements_utils: Detected one or more mismatches between the model's dependencies and the current Python environment:\n",
      " - mlflow (current: 2.22.1, required: mlflow==2.22.0)\n",
      " - torch (current: 2.7.1, required: torch==2.7.0)\n",
      " - tqdm (current: uninstalled, required: tqdm==4.67.1)\n",
      "To fix the mismatches, call `mlflow.pyfunc.get_model_dependencies(model_uri)` to fetch the model's environment and install dependencies using the resulting environment file.\n"
     ]
    },
    {
     "name": "stdout",
     "output_type": "stream",
     "text": [
      "  Model name: TemperatureForecaster-PTUJ\n",
      "  Latest version: 7\n",
      "  Model UR: mlflow-artifacts:/190974e7755c49949305f806a773ca34/0d76446b6d064d1bb978cc45bd76cb0c/artifacts/model\n"
     ]
    },
    {
     "name": "stderr",
     "output_type": "stream",
     "text": [
      "2025/06/10 03:08:50 WARNING mlflow.utils.requirements_utils: Detected one or more mismatches between the model's dependencies and the current Python environment:\n",
      " - mlflow (current: 2.22.1, required: mlflow==2.22.0)\n",
      " - torch (current: 2.7.1, required: torch==2.7.0)\n",
      " - tqdm (current: uninstalled, required: tqdm==4.67.1)\n",
      "To fix the mismatches, call `mlflow.pyfunc.get_model_dependencies(model_uri)` to fetch the model's environment and install dependencies using the resulting environment file.\n"
     ]
    },
    {
     "name": "stdout",
     "output_type": "stream",
     "text": [
      "  Model name: TemperatureForecaster-CELJE\n",
      "  Latest version: 7\n",
      "  Model UR: mlflow-artifacts:/190974e7755c49949305f806a773ca34/d1f47877fd32464d90eb3d3af84ad57f/artifacts/model\n"
     ]
    },
    {
     "name": "stderr",
     "output_type": "stream",
     "text": [
      "2025/06/10 03:09:02 WARNING mlflow.utils.requirements_utils: Detected one or more mismatches between the model's dependencies and the current Python environment:\n",
      " - mlflow (current: 2.22.1, required: mlflow==2.22.0)\n",
      " - torch (current: 2.7.1, required: torch==2.7.0)\n",
      " - tqdm (current: uninstalled, required: tqdm==4.67.1)\n",
      "To fix the mismatches, call `mlflow.pyfunc.get_model_dependencies(model_uri)` to fetch the model's environment and install dependencies using the resulting environment file.\n"
     ]
    },
    {
     "name": "stdout",
     "output_type": "stream",
     "text": [
      "  Model name: TemperatureForecaster-CRNOMELJ\n",
      "  Latest version: 7\n",
      "  Model UR: mlflow-artifacts:/190974e7755c49949305f806a773ca34/94717eb5a7a046379499d8a1aff071e4/artifacts/model\n"
     ]
    },
    {
     "name": "stderr",
     "output_type": "stream",
     "text": [
      "2025/06/10 03:09:14 WARNING mlflow.utils.requirements_utils: Detected one or more mismatches between the model's dependencies and the current Python environment:\n",
      " - mlflow (current: 2.22.1, required: mlflow==2.22.0)\n",
      " - torch (current: 2.7.1, required: torch==2.7.0)\n",
      " - tqdm (current: uninstalled, required: tqdm==4.67.1)\n",
      "To fix the mismatches, call `mlflow.pyfunc.get_model_dependencies(model_uri)` to fetch the model's environment and install dependencies using the resulting environment file.\n"
     ]
    },
    {
     "name": "stdout",
     "output_type": "stream",
     "text": [
      "  Model name: TemperatureForecaster-BOVEC\n",
      "  Latest version: 8\n",
      "  Model UR: mlflow-artifacts:/190974e7755c49949305f806a773ca34/0d5b502eddc74f19b78656c0ae260182/artifacts/model\n"
     ]
    },
    {
     "name": "stderr",
     "output_type": "stream",
     "text": [
      "2025/06/10 03:09:26 WARNING mlflow.utils.requirements_utils: Detected one or more mismatches between the model's dependencies and the current Python environment:\n",
      " - mlflow (current: 2.22.1, required: mlflow==2.22.0)\n",
      " - torch (current: 2.7.1, required: torch==2.7.0)\n",
      " - tqdm (current: uninstalled, required: tqdm==4.67.1)\n",
      "To fix the mismatches, call `mlflow.pyfunc.get_model_dependencies(model_uri)` to fetch the model's environment and install dependencies using the resulting environment file.\n"
     ]
    }
   ],
   "source": [
    "import mlflow.artifacts\n",
    "import yaml\n",
    "import mlflow\n",
    "import torch\n",
    "\n",
    "def get_models():\n",
    "    stations = yaml.safe_load(open(\"../../params.yaml\"))[\"stations\"]\n",
    "    params_train = yaml.safe_load(open(\"../../params.yaml\"))[\"train\"]\n",
    "\n",
    "    mlflow_registered_model_name_template = params_train[\"mlflow_registered_model_name\"]\n",
    "    mlflow_uri = params_train[\"mlflow_uri\"]\n",
    "\n",
    "    model_names = [mlflow_registered_model_name_template.format(station=station) for station in stations]\n",
    "\n",
    "    print(\"model names: \", model_names)\n",
    "\n",
    "    mlflow.set_tracking_uri(uri=mlflow_uri)\n",
    "    print(mlflow_uri)\n",
    "\n",
    "    client = mlflow.tracking.MlflowClient()\n",
    "\n",
    "    MODELS = {}\n",
    "    model_names = [mlflow_registered_model_name_template.format(station=station) for station in stations]\n",
    "\n",
    "    for model_name in model_names:\n",
    "        model = client.get_registered_model(name=model_name)\n",
    "        print(f\"  Model name: {model.name}\")\n",
    "        for latest_version in model.latest_versions:\n",
    "            print(f\"  Latest version: {latest_version.version}\")\n",
    "            print(f\"  Model UR: {latest_version.source}\")\n",
    "            model_uri = latest_version.source\n",
    "            MODELS[model_name] = mlflow.pyfunc.load_model(model_uri)\n",
    "\n",
    "\n",
    "\n",
    "    \"\"\" model_uri_to_load = \"\"\n",
    "\n",
    "    print(\"Registered models:\")\n",
    "    for model_name in model_names:\n",
    "        model = client.get_registered_model(name=model_name)\n",
    "        print(f\"  Model name: {model.name}\")\n",
    "        for version in model.latest_versions:\n",
    "            print(f\"  Latest version: {version.version}\")\n",
    "            print(f\"  Model UR: {version.source}\")\n",
    "            model_uri_to_load = version.source\n",
    "\n",
    "    model = mlflow.pyfunc.load_model(model_uri_to_load)\n",
    "    print(model)\n",
    "    model.predict() \"\"\"\n",
    "\n",
    "    \"\"\" model.eval()\n",
    "    device = torch.device(\"cpu\")\n",
    "\n",
    "    with torch.no_grad():\n",
    "        output = model() \"\"\"\n",
    "\n",
    "\n",
    "\n",
    "    return\n",
    "\n",
    "    mlflow.set_tracking_uri(uri=mlflow_uri)\n",
    "    client = mlflow.tracking.MlflowClient()\n",
    "\n",
    "    for model_name in model_names:\n",
    "        # get all existing versions of the model from MLflow\n",
    "        versions = client.get_latest_versions(name=model_name)\n",
    "        \n",
    "        # find the latest version by version number\n",
    "        latest_version = max(int(v.version) for v in versions)\n",
    "        \n",
    "        print(f\"Promoting model {model_name} version {latest_version} to Production!\")\n",
    "        \n",
    "        # add \"Production\" alias to latest model version\n",
    "        client.set_registered_model_alias(\n",
    "            name=model_name,\n",
    "            version=str(latest_version),\n",
    "            alias=\"Production\"\n",
    "        )\n",
    "\n",
    "if __name__ == \"__main__\":\n",
    "    get_models()"
   ]
  },
  {
   "cell_type": "code",
   "execution_count": null,
   "id": "45f6b405",
   "metadata": {},
   "outputs": [
    {
     "ename": "RestException",
     "evalue": "RESOURCE_DOES_NOT_EXIST: Response: {'error_code': 'RESOURCE_DOES_NOT_EXIST'}",
     "output_type": "error",
     "traceback": [
      "\u001b[31m---------------------------------------------------------------------------\u001b[39m",
      "\u001b[31mRestException\u001b[39m                             Traceback (most recent call last)",
      "\u001b[36mCell\u001b[39m\u001b[36m \u001b[39m\u001b[32mIn[9]\u001b[39m\u001b[32m, line 15\u001b[39m\n\u001b[32m     11\u001b[39m mlflow.set_tracking_uri(uri=mlflow_uri)\n\u001b[32m     14\u001b[39m \u001b[38;5;66;03m# Load model as a PyFuncModel.\u001b[39;00m\n\u001b[32m---> \u001b[39m\u001b[32m15\u001b[39m loaded_model = \u001b[43mmlflow\u001b[49m\u001b[43m.\u001b[49m\u001b[43mpytorch\u001b[49m\u001b[43m.\u001b[49m\u001b[43mload_model\u001b[49m\u001b[43m(\u001b[49m\u001b[33;43mf\u001b[39;49m\u001b[33;43m\"\u001b[39;49m\u001b[33;43mmodels:/TemperatureForecaster-LENDAVA/8\u001b[39;49m\u001b[33;43m\"\u001b[39;49m\u001b[43m)\u001b[49m\n\u001b[32m     17\u001b[39m \u001b[38;5;66;03m# Predict on your data.\u001b[39;00m\n\u001b[32m     18\u001b[39m \u001b[38;5;66;03m# data = # Code to load a data sample or samples\u001b[39;00m\n\u001b[32m     19\u001b[39m \u001b[38;5;66;03m# loaded_model.predict(data)\u001b[39;00m\n",
      "\u001b[36mFile \u001b[39m\u001b[32mc:\\Users\\jakob\\AppData\\Local\\pypoetry\\Cache\\virtualenvs\\iis-temperature-forecaster--Ib5HjuI-py3.11\\Lib\\site-packages\\mlflow\\pytorch\\__init__.py:684\u001b[39m, in \u001b[36mload_model\u001b[39m\u001b[34m(model_uri, dst_path, **kwargs)\u001b[39m\n\u001b[32m    632\u001b[39m \u001b[38;5;250m\u001b[39m\u001b[33;03m\"\"\"\u001b[39;00m\n\u001b[32m    633\u001b[39m \u001b[33;03mLoad a PyTorch model from a local file or a run.\u001b[39;00m\n\u001b[32m    634\u001b[39m \n\u001b[32m   (...)\u001b[39m\u001b[32m    680\u001b[39m \u001b[33;03m    predict X: 30.0, y_pred: 60.48\u001b[39;00m\n\u001b[32m    681\u001b[39m \u001b[33;03m\"\"\"\u001b[39;00m\n\u001b[32m    682\u001b[39m \u001b[38;5;28;01mimport\u001b[39;00m\u001b[38;5;250m \u001b[39m\u001b[34;01mtorch\u001b[39;00m\n\u001b[32m--> \u001b[39m\u001b[32m684\u001b[39m local_model_path = \u001b[43m_download_artifact_from_uri\u001b[49m\u001b[43m(\u001b[49m\u001b[43martifact_uri\u001b[49m\u001b[43m=\u001b[49m\u001b[43mmodel_uri\u001b[49m\u001b[43m,\u001b[49m\u001b[43m \u001b[49m\u001b[43moutput_path\u001b[49m\u001b[43m=\u001b[49m\u001b[43mdst_path\u001b[49m\u001b[43m)\u001b[49m\n\u001b[32m    685\u001b[39m pytorch_conf = _get_flavor_configuration(model_path=local_model_path, flavor_name=FLAVOR_NAME)\n\u001b[32m    686\u001b[39m _add_code_from_conf_to_system_path(local_model_path, pytorch_conf)\n",
      "\u001b[36mFile \u001b[39m\u001b[32mc:\\Users\\jakob\\AppData\\Local\\pypoetry\\Cache\\virtualenvs\\iis-temperature-forecaster--Ib5HjuI-py3.11\\Lib\\site-packages\\mlflow\\tracking\\artifact_utils.py:108\u001b[39m, in \u001b[36m_download_artifact_from_uri\u001b[39m\u001b[34m(artifact_uri, output_path, lineage_header_info)\u001b[39m\n\u001b[32m    100\u001b[39m \u001b[38;5;250m\u001b[39m\u001b[33;03m\"\"\"\u001b[39;00m\n\u001b[32m    101\u001b[39m \u001b[33;03mArgs:\u001b[39;00m\n\u001b[32m    102\u001b[39m \u001b[33;03m    artifact_uri: The *absolute* URI of the artifact to download.\u001b[39;00m\n\u001b[32m   (...)\u001b[39m\u001b[32m    105\u001b[39m \u001b[33;03m    lineage_header_info: The model lineage header info to be consumed by lineage services.\u001b[39;00m\n\u001b[32m    106\u001b[39m \u001b[33;03m\"\"\"\u001b[39;00m\n\u001b[32m    107\u001b[39m root_uri, artifact_path = _get_root_uri_and_artifact_path(artifact_uri)\n\u001b[32m--> \u001b[39m\u001b[32m108\u001b[39m repo = \u001b[43mget_artifact_repository\u001b[49m\u001b[43m(\u001b[49m\u001b[43martifact_uri\u001b[49m\u001b[43m=\u001b[49m\u001b[43mroot_uri\u001b[49m\u001b[43m)\u001b[49m\n\u001b[32m    110\u001b[39m \u001b[38;5;28;01mif\u001b[39;00m \u001b[38;5;28misinstance\u001b[39m(repo, ModelsArtifactRepository):\n\u001b[32m    111\u001b[39m     \u001b[38;5;28;01mreturn\u001b[39;00m repo.download_artifacts(\n\u001b[32m    112\u001b[39m         artifact_path=artifact_path,\n\u001b[32m    113\u001b[39m         dst_path=output_path,\n\u001b[32m    114\u001b[39m         lineage_header_info=lineage_header_info,\n\u001b[32m    115\u001b[39m     )\n",
      "\u001b[36mFile \u001b[39m\u001b[32mc:\\Users\\jakob\\AppData\\Local\\pypoetry\\Cache\\virtualenvs\\iis-temperature-forecaster--Ib5HjuI-py3.11\\Lib\\site-packages\\mlflow\\store\\artifact\\artifact_repository_registry.py:133\u001b[39m, in \u001b[36mget_artifact_repository\u001b[39m\u001b[34m(artifact_uri)\u001b[39m\n\u001b[32m    120\u001b[39m \u001b[38;5;28;01mdef\u001b[39;00m\u001b[38;5;250m \u001b[39m\u001b[34mget_artifact_repository\u001b[39m(artifact_uri: \u001b[38;5;28mstr\u001b[39m) -> ArtifactRepository:\n\u001b[32m    121\u001b[39m \u001b[38;5;250m    \u001b[39m\u001b[33;03m\"\"\"\u001b[39;00m\n\u001b[32m    122\u001b[39m \u001b[33;03m    Get an artifact repository from the registry based on the scheme of artifact_uri\u001b[39;00m\n\u001b[32m    123\u001b[39m \n\u001b[32m   (...)\u001b[39m\u001b[32m    131\u001b[39m \u001b[33;03m        requirements.\u001b[39;00m\n\u001b[32m    132\u001b[39m \u001b[33;03m    \"\"\"\u001b[39;00m\n\u001b[32m--> \u001b[39m\u001b[32m133\u001b[39m     \u001b[38;5;28;01mreturn\u001b[39;00m \u001b[43m_artifact_repository_registry\u001b[49m\u001b[43m.\u001b[49m\u001b[43mget_artifact_repository\u001b[49m\u001b[43m(\u001b[49m\u001b[43martifact_uri\u001b[49m\u001b[43m)\u001b[49m\n",
      "\u001b[36mFile \u001b[39m\u001b[32mc:\\Users\\jakob\\AppData\\Local\\pypoetry\\Cache\\virtualenvs\\iis-temperature-forecaster--Ib5HjuI-py3.11\\Lib\\site-packages\\mlflow\\store\\artifact\\artifact_repository_registry.py:77\u001b[39m, in \u001b[36mArtifactRepositoryRegistry.get_artifact_repository\u001b[39m\u001b[34m(self, artifact_uri)\u001b[39m\n\u001b[32m     72\u001b[39m \u001b[38;5;28;01mif\u001b[39;00m repository \u001b[38;5;129;01mis\u001b[39;00m \u001b[38;5;28;01mNone\u001b[39;00m:\n\u001b[32m     73\u001b[39m     \u001b[38;5;28;01mraise\u001b[39;00m MlflowException(\n\u001b[32m     74\u001b[39m         \u001b[33mf\u001b[39m\u001b[33m\"\u001b[39m\u001b[33mCould not find a registered artifact repository for: \u001b[39m\u001b[38;5;132;01m{\u001b[39;00martifact_uri\u001b[38;5;132;01m}\u001b[39;00m\u001b[33m. \u001b[39m\u001b[33m\"\u001b[39m\n\u001b[32m     75\u001b[39m         \u001b[33mf\u001b[39m\u001b[33m\"\u001b[39m\u001b[33mCurrently registered schemes are: \u001b[39m\u001b[38;5;132;01m{\u001b[39;00m\u001b[38;5;28mlist\u001b[39m(\u001b[38;5;28mself\u001b[39m._registry.keys())\u001b[38;5;132;01m}\u001b[39;00m\u001b[33m\"\u001b[39m\n\u001b[32m     76\u001b[39m     )\n\u001b[32m---> \u001b[39m\u001b[32m77\u001b[39m \u001b[38;5;28;01mreturn\u001b[39;00m \u001b[43mrepository\u001b[49m\u001b[43m(\u001b[49m\u001b[43martifact_uri\u001b[49m\u001b[43m)\u001b[49m\n",
      "\u001b[36mFile \u001b[39m\u001b[32mc:\\Users\\jakob\\AppData\\Local\\pypoetry\\Cache\\virtualenvs\\iis-temperature-forecaster--Ib5HjuI-py3.11\\Lib\\site-packages\\mlflow\\store\\artifact\\models_artifact_repo.py:69\u001b[39m, in \u001b[36mModelsArtifactRepository.__init__\u001b[39m\u001b[34m(self, artifact_uri)\u001b[39m\n\u001b[32m     63\u001b[39m     \u001b[38;5;28mself\u001b[39m.model_version = \u001b[38;5;28mself\u001b[39m.repo.model_version\n\u001b[32m     64\u001b[39m \u001b[38;5;28;01melse\u001b[39;00m:\n\u001b[32m     65\u001b[39m     (\n\u001b[32m     66\u001b[39m         \u001b[38;5;28mself\u001b[39m.model_name,\n\u001b[32m     67\u001b[39m         \u001b[38;5;28mself\u001b[39m.model_version,\n\u001b[32m     68\u001b[39m         underlying_uri,\n\u001b[32m---> \u001b[39m\u001b[32m69\u001b[39m     ) = \u001b[43mModelsArtifactRepository\u001b[49m\u001b[43m.\u001b[49m\u001b[43m_get_model_uri_infos\u001b[49m\u001b[43m(\u001b[49m\u001b[43martifact_uri\u001b[49m\u001b[43m)\u001b[49m\n\u001b[32m     70\u001b[39m     \u001b[38;5;28mself\u001b[39m.repo = get_artifact_repository(underlying_uri)\n",
      "\u001b[36mFile \u001b[39m\u001b[32mc:\\Users\\jakob\\AppData\\Local\\pypoetry\\Cache\\virtualenvs\\iis-temperature-forecaster--Ib5HjuI-py3.11\\Lib\\site-packages\\mlflow\\store\\artifact\\models_artifact_repo.py:113\u001b[39m, in \u001b[36mModelsArtifactRepository._get_model_uri_infos\u001b[39m\u001b[34m(uri)\u001b[39m\n\u001b[32m    111\u001b[39m client = MlflowClient(registry_uri=databricks_profile_uri)\n\u001b[32m    112\u001b[39m name, version = get_model_name_and_version(client, uri)\n\u001b[32m--> \u001b[39m\u001b[32m113\u001b[39m download_uri = \u001b[43mclient\u001b[49m\u001b[43m.\u001b[49m\u001b[43mget_model_version_download_uri\u001b[49m\u001b[43m(\u001b[49m\u001b[43mname\u001b[49m\u001b[43m,\u001b[49m\u001b[43m \u001b[49m\u001b[43mversion\u001b[49m\u001b[43m)\u001b[49m\n\u001b[32m    115\u001b[39m \u001b[38;5;28;01mreturn\u001b[39;00m (\n\u001b[32m    116\u001b[39m     name,\n\u001b[32m    117\u001b[39m     version,\n\u001b[32m    118\u001b[39m     add_databricks_profile_info_to_artifact_uri(download_uri, databricks_profile_uri),\n\u001b[32m    119\u001b[39m )\n",
      "\u001b[36mFile \u001b[39m\u001b[32mc:\\Users\\jakob\\AppData\\Local\\pypoetry\\Cache\\virtualenvs\\iis-temperature-forecaster--Ib5HjuI-py3.11\\Lib\\site-packages\\mlflow\\tracking\\client.py:4652\u001b[39m, in \u001b[36mMlflowClient.get_model_version_download_uri\u001b[39m\u001b[34m(self, name, version)\u001b[39m\n\u001b[32m   4607\u001b[39m \u001b[38;5;250m\u001b[39m\u001b[33;03m\"\"\"\u001b[39;00m\n\u001b[32m   4608\u001b[39m \u001b[33;03mGet the download location in Model Registry for this model version.\u001b[39;00m\n\u001b[32m   4609\u001b[39m \n\u001b[32m   (...)\u001b[39m\u001b[32m   4649\u001b[39m \u001b[33;03m    Download URI: runs:/027d7bbe81924c5a82b3e4ce979fcab7/sklearn-model\u001b[39;00m\n\u001b[32m   4650\u001b[39m \u001b[33;03m\"\"\"\u001b[39;00m\n\u001b[32m   4651\u001b[39m \u001b[38;5;28mself\u001b[39m._raise_if_prompt(name)\n\u001b[32m-> \u001b[39m\u001b[32m4652\u001b[39m \u001b[38;5;28;01mreturn\u001b[39;00m \u001b[38;5;28;43mself\u001b[39;49m\u001b[43m.\u001b[49m\u001b[43m_get_registry_client\u001b[49m\u001b[43m(\u001b[49m\u001b[43m)\u001b[49m\u001b[43m.\u001b[49m\u001b[43mget_model_version_download_uri\u001b[49m\u001b[43m(\u001b[49m\u001b[43mname\u001b[49m\u001b[43m,\u001b[49m\u001b[43m \u001b[49m\u001b[43mversion\u001b[49m\u001b[43m)\u001b[49m\n",
      "\u001b[36mFile \u001b[39m\u001b[32mc:\\Users\\jakob\\AppData\\Local\\pypoetry\\Cache\\virtualenvs\\iis-temperature-forecaster--Ib5HjuI-py3.11\\Lib\\site-packages\\mlflow\\tracking\\_model_registry\\client.py:330\u001b[39m, in \u001b[36mModelRegistryClient.get_model_version_download_uri\u001b[39m\u001b[34m(self, name, version)\u001b[39m\n\u001b[32m    319\u001b[39m \u001b[38;5;28;01mdef\u001b[39;00m\u001b[38;5;250m \u001b[39m\u001b[34mget_model_version_download_uri\u001b[39m(\u001b[38;5;28mself\u001b[39m, name, version):\n\u001b[32m    320\u001b[39m \u001b[38;5;250m    \u001b[39m\u001b[33;03m\"\"\"Get the download location in Model Registry for this model version.\u001b[39;00m\n\u001b[32m    321\u001b[39m \n\u001b[32m    322\u001b[39m \u001b[33;03m    Args:\u001b[39;00m\n\u001b[32m   (...)\u001b[39m\u001b[32m    328\u001b[39m \n\u001b[32m    329\u001b[39m \u001b[33;03m    \"\"\"\u001b[39;00m\n\u001b[32m--> \u001b[39m\u001b[32m330\u001b[39m     \u001b[38;5;28;01mreturn\u001b[39;00m \u001b[38;5;28;43mself\u001b[39;49m\u001b[43m.\u001b[49m\u001b[43mstore\u001b[49m\u001b[43m.\u001b[49m\u001b[43mget_model_version_download_uri\u001b[49m\u001b[43m(\u001b[49m\u001b[43mname\u001b[49m\u001b[43m,\u001b[49m\u001b[43m \u001b[49m\u001b[43mversion\u001b[49m\u001b[43m)\u001b[49m\n",
      "\u001b[36mFile \u001b[39m\u001b[32mc:\\Users\\jakob\\AppData\\Local\\pypoetry\\Cache\\virtualenvs\\iis-temperature-forecaster--Ib5HjuI-py3.11\\Lib\\site-packages\\mlflow\\store\\model_registry\\rest_store.py:361\u001b[39m, in \u001b[36mRestStore.get_model_version_download_uri\u001b[39m\u001b[34m(self, name, version)\u001b[39m\n\u001b[32m    348\u001b[39m \u001b[38;5;250m\u001b[39m\u001b[33;03m\"\"\"\u001b[39;00m\n\u001b[32m    349\u001b[39m \u001b[33;03mGet the download location in Model Registry for this model version.\u001b[39;00m\n\u001b[32m    350\u001b[39m \u001b[33;03mNOTE: For first version of Model Registry, since the models are not copied over to another\u001b[39;00m\n\u001b[32m   (...)\u001b[39m\u001b[32m    358\u001b[39m \u001b[33;03m    A single URI location that allows reads for downloading.\u001b[39;00m\n\u001b[32m    359\u001b[39m \u001b[33;03m\"\"\"\u001b[39;00m\n\u001b[32m    360\u001b[39m req_body = message_to_json(GetModelVersionDownloadUri(name=name, version=\u001b[38;5;28mstr\u001b[39m(version)))\n\u001b[32m--> \u001b[39m\u001b[32m361\u001b[39m response_proto = \u001b[38;5;28;43mself\u001b[39;49m\u001b[43m.\u001b[49m\u001b[43m_call_endpoint\u001b[49m\u001b[43m(\u001b[49m\u001b[43mGetModelVersionDownloadUri\u001b[49m\u001b[43m,\u001b[49m\u001b[43m \u001b[49m\u001b[43mreq_body\u001b[49m\u001b[43m)\u001b[49m\n\u001b[32m    362\u001b[39m \u001b[38;5;28;01mreturn\u001b[39;00m response_proto.artifact_uri\n",
      "\u001b[36mFile \u001b[39m\u001b[32mc:\\Users\\jakob\\AppData\\Local\\pypoetry\\Cache\\virtualenvs\\iis-temperature-forecaster--Ib5HjuI-py3.11\\Lib\\site-packages\\mlflow\\store\\model_registry\\base_rest_store.py:44\u001b[39m, in \u001b[36mBaseRestStore._call_endpoint\u001b[39m\u001b[34m(self, api, json_body, call_all_endpoints, extra_headers)\u001b[39m\n\u001b[32m     42\u001b[39m \u001b[38;5;28;01melse\u001b[39;00m:\n\u001b[32m     43\u001b[39m     endpoint, method = \u001b[38;5;28mself\u001b[39m._get_endpoint_from_method(api)\n\u001b[32m---> \u001b[39m\u001b[32m44\u001b[39m     \u001b[38;5;28;01mreturn\u001b[39;00m \u001b[43mcall_endpoint\u001b[49m\u001b[43m(\u001b[49m\n\u001b[32m     45\u001b[39m \u001b[43m        \u001b[49m\u001b[38;5;28;43mself\u001b[39;49m\u001b[43m.\u001b[49m\u001b[43mget_host_creds\u001b[49m\u001b[43m(\u001b[49m\u001b[43m)\u001b[49m\u001b[43m,\u001b[49m\u001b[43m \u001b[49m\u001b[43mendpoint\u001b[49m\u001b[43m,\u001b[49m\u001b[43m \u001b[49m\u001b[43mmethod\u001b[49m\u001b[43m,\u001b[49m\u001b[43m \u001b[49m\u001b[43mjson_body\u001b[49m\u001b[43m,\u001b[49m\u001b[43m \u001b[49m\u001b[43mresponse_proto\u001b[49m\u001b[43m,\u001b[49m\u001b[43m \u001b[49m\u001b[43mextra_headers\u001b[49m\n\u001b[32m     46\u001b[39m \u001b[43m    \u001b[49m\u001b[43m)\u001b[49m\n",
      "\u001b[36mFile \u001b[39m\u001b[32mc:\\Users\\jakob\\AppData\\Local\\pypoetry\\Cache\\virtualenvs\\iis-temperature-forecaster--Ib5HjuI-py3.11\\Lib\\site-packages\\mlflow\\utils\\rest_utils.py:402\u001b[39m, in \u001b[36mcall_endpoint\u001b[39m\u001b[34m(host_creds, endpoint, method, json_body, response_proto, extra_headers)\u001b[39m\n\u001b[32m    399\u001b[39m     call_kwargs[\u001b[33m\"\u001b[39m\u001b[33mjson\u001b[39m\u001b[33m\"\u001b[39m] = json_body\n\u001b[32m    400\u001b[39m     response = http_request(**call_kwargs)\n\u001b[32m--> \u001b[39m\u001b[32m402\u001b[39m response = \u001b[43mverify_rest_response\u001b[49m\u001b[43m(\u001b[49m\u001b[43mresponse\u001b[49m\u001b[43m,\u001b[49m\u001b[43m \u001b[49m\u001b[43mendpoint\u001b[49m\u001b[43m)\u001b[49m\n\u001b[32m    403\u001b[39m response_to_parse = response.text\n\u001b[32m    404\u001b[39m js_dict = json.loads(response_to_parse)\n",
      "\u001b[36mFile \u001b[39m\u001b[32mc:\\Users\\jakob\\AppData\\Local\\pypoetry\\Cache\\virtualenvs\\iis-temperature-forecaster--Ib5HjuI-py3.11\\Lib\\site-packages\\mlflow\\utils\\rest_utils.py:259\u001b[39m, in \u001b[36mverify_rest_response\u001b[39m\u001b[34m(response, endpoint)\u001b[39m\n\u001b[32m    257\u001b[39m \u001b[38;5;28;01mif\u001b[39;00m response.status_code != \u001b[32m200\u001b[39m:\n\u001b[32m    258\u001b[39m     \u001b[38;5;28;01mif\u001b[39;00m _can_parse_as_json_object(response.text):\n\u001b[32m--> \u001b[39m\u001b[32m259\u001b[39m         \u001b[38;5;28;01mraise\u001b[39;00m RestException(json.loads(response.text))\n\u001b[32m    260\u001b[39m     \u001b[38;5;28;01melse\u001b[39;00m:\n\u001b[32m    261\u001b[39m         base_msg = (\n\u001b[32m    262\u001b[39m             \u001b[33mf\u001b[39m\u001b[33m\"\u001b[39m\u001b[33mAPI request to endpoint \u001b[39m\u001b[38;5;132;01m{\u001b[39;00mendpoint\u001b[38;5;132;01m}\u001b[39;00m\u001b[33m \u001b[39m\u001b[33m\"\u001b[39m\n\u001b[32m    263\u001b[39m             \u001b[33mf\u001b[39m\u001b[33m\"\u001b[39m\u001b[33mfailed with error code \u001b[39m\u001b[38;5;132;01m{\u001b[39;00mresponse.status_code\u001b[38;5;132;01m}\u001b[39;00m\u001b[33m != 200\u001b[39m\u001b[33m\"\u001b[39m\n\u001b[32m    264\u001b[39m         )\n",
      "\u001b[31mRestException\u001b[39m: RESOURCE_DOES_NOT_EXIST: Response: {'error_code': 'RESOURCE_DOES_NOT_EXIST'}"
     ]
    }
   ],
   "source": [
    "import mlflow\n",
    "import mlflow.pytorch\n",
    "import yaml\n",
    "\n",
    "# logged_model = 'runs:/0d5b502eddc74f19b78656c0ae260182/model'\n",
    "\n",
    "params_train = yaml.safe_load(open(\"../../params.yaml\"))[\"train\"]\n",
    "mlflow_uri = params_train[\"mlflow_uri\"]\n",
    "\n",
    "mlflow.set_tracking_uri(uri=mlflow_uri)\n",
    "\n",
    "\n",
    "# Load model as a PyFuncModel.\n",
    "loaded_model = mlflow.pytorch.load_model(f\"models:/TemperatureForecaster-LENDAVA/8\")\n",
    "\n",
    "# Predict on your data.\n",
    "# data = # Code to load a data sample or samples\n",
    "# loaded_model.predict(data)"
   ]
  },
  {
   "cell_type": "code",
   "execution_count": null,
   "id": "992ae3a3",
   "metadata": {},
   "outputs": [],
   "source": []
  },
  {
   "cell_type": "code",
   "execution_count": null,
   "id": "7af4bd93",
   "metadata": {},
   "outputs": [
    {
     "ename": "TypeError",
     "evalue": "MlflowClient.list_artifacts() missing 1 required positional argument: 'run_id'",
     "output_type": "error",
     "traceback": [
      "\u001b[31m---------------------------------------------------------------------------\u001b[39m",
      "\u001b[31mTypeError\u001b[39m                                 Traceback (most recent call last)",
      "\u001b[36mCell\u001b[39m\u001b[36m \u001b[39m\u001b[32mIn[12]\u001b[39m\u001b[32m, line 5\u001b[39m\n\u001b[32m      1\u001b[39m \u001b[38;5;28;01mfrom\u001b[39;00m\u001b[38;5;250m \u001b[39m\u001b[34;01mmlflow\u001b[39;00m\u001b[34;01m.\u001b[39;00m\u001b[34;01mtracking\u001b[39;00m\u001b[38;5;250m \u001b[39m\u001b[38;5;28;01mimport\u001b[39;00m MlflowClient\n\u001b[32m      3\u001b[39m client = MlflowClient()\n\u001b[32m----> \u001b[39m\u001b[32m5\u001b[39m \u001b[38;5;28;01mfor\u001b[39;00m rm \u001b[38;5;129;01min\u001b[39;00m \u001b[43mclient\u001b[49m\u001b[43m.\u001b[49m\u001b[43mlist_artifacts\u001b[49m\u001b[43m(\u001b[49m\u001b[43m)\u001b[49m:\n\u001b[32m      6\u001b[39m     \u001b[38;5;28mprint\u001b[39m(\u001b[33m\"\u001b[39m\u001b[33mModel name:\u001b[39m\u001b[33m\"\u001b[39m, rm.name)\n",
      "\u001b[31mTypeError\u001b[39m: MlflowClient.list_artifacts() missing 1 required positional argument: 'run_id'"
     ]
    }
   ],
   "source": [
    "from mlflow.tracking import MlflowClient\n",
    "\n",
    "client = MlflowClient()\n",
    "\n",
    "for rm in client.reg():\n",
    "    print(\"Model name:\", rm.name)\n",
    "    for mv in rm.latest_versions:\n",
    "        print(f\" - Version: {mv.version}, Stage: {mv.current_stage}, Run ID: {mv.run_id}\")\n"
   ]
  },
  {
   "cell_type": "code",
   "execution_count": null,
   "id": "ad49f440",
   "metadata": {},
   "outputs": [],
   "source": []
  }
 ],
 "metadata": {
  "kernelspec": {
   "display_name": "iis-temperature-forecaster-2DDEMIqC-py3.11",
   "language": "python",
   "name": "python3"
  },
  "language_info": {
   "codemirror_mode": {
    "name": "ipython",
    "version": 3
   },
   "file_extension": ".py",
   "mimetype": "text/x-python",
   "name": "python",
   "nbconvert_exporter": "python",
   "pygments_lexer": "ipython3",
   "version": "3.11.8"
  }
 },
 "nbformat": 4,
 "nbformat_minor": 5
}
